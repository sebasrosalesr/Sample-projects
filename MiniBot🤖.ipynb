{
  "cells": [
    {
      "cell_type": "markdown",
      "metadata": {
        "id": "view-in-github",
        "colab_type": "text"
      },
      "source": [
        "<a href=\"https://colab.research.google.com/github/sebasrosalesr/Sample-projects/blob/main/MiniBot%F0%9F%A4%96.ipynb\" target=\"_parent\"><img src=\"https://colab.research.google.com/assets/colab-badge.svg\" alt=\"Open In Colab\"/></a>"
      ]
    },
    {
      "cell_type": "markdown",
      "metadata": {
        "id": "MCUjdDH3iZ4N"
      },
      "source": []
    },
    {
      "cell_type": "markdown",
      "metadata": {
        "id": "T_LNS-ptizuG"
      },
      "source": [
        "##Vasanticases Chatbot\n",
        "\n",
        "This chatbot, built using Flask and Twilio, automates customer interactions on WhatsApp for a cellphone case customization business. It recognizes specific keywords in user messages (like “personalizado”) to provide tailored responses, such as pricing, customization options, and order instructions. The bot can also handle incoming images, echo them back, and guide users through the ordering process. Additionally, it utilizes ngrok to expose the local server for external access during development."
      ]
    },
    {
      "cell_type": "code",
      "execution_count": null,
      "metadata": {
        "colab": {
          "base_uri": "https://localhost:8080/"
        },
        "id": "Ick0omdenLq0",
        "outputId": "0a44ad1f-6580-48dd-ea71-8d8e1fee14ba"
      },
      "outputs": [
        {
          "output_type": "stream",
          "name": "stdout",
          "text": [
            "Collecting blinker\n",
            "  Downloading blinker-1.8.2-py3-none-any.whl.metadata (1.6 kB)\n",
            "Collecting flask\n",
            "  Downloading flask-3.0.3-py3-none-any.whl.metadata (3.2 kB)\n",
            "Collecting Werkzeug>=3.0.0 (from flask)\n",
            "  Using cached werkzeug-3.0.4-py3-none-any.whl.metadata (3.7 kB)\n",
            "Collecting Jinja2>=3.1.2 (from flask)\n",
            "  Using cached jinja2-3.1.4-py3-none-any.whl.metadata (2.6 kB)\n",
            "Collecting itsdangerous>=2.1.2 (from flask)\n",
            "  Downloading itsdangerous-2.2.0-py3-none-any.whl.metadata (1.9 kB)\n",
            "Collecting click>=8.1.3 (from flask)\n",
            "  Using cached click-8.1.7-py3-none-any.whl.metadata (3.0 kB)\n",
            "Collecting MarkupSafe>=2.0 (from Jinja2>=3.1.2->flask)\n",
            "  Using cached MarkupSafe-2.1.5-cp310-cp310-manylinux_2_17_x86_64.manylinux2014_x86_64.whl.metadata (3.0 kB)\n",
            "Downloading blinker-1.8.2-py3-none-any.whl (9.5 kB)\n",
            "Downloading flask-3.0.3-py3-none-any.whl (101 kB)\n",
            "\u001b[2K   \u001b[90m━━━━━━━━━━━━━━━━━━━━━━━━━━━━━━━━━━━━━━━━\u001b[0m \u001b[32m101.7/101.7 kB\u001b[0m \u001b[31m982.1 kB/s\u001b[0m eta \u001b[36m0:00:00\u001b[0m\n",
            "\u001b[?25hUsing cached click-8.1.7-py3-none-any.whl (97 kB)\n",
            "Downloading itsdangerous-2.2.0-py3-none-any.whl (16 kB)\n",
            "Using cached jinja2-3.1.4-py3-none-any.whl (133 kB)\n",
            "Using cached werkzeug-3.0.4-py3-none-any.whl (227 kB)\n",
            "Using cached MarkupSafe-2.1.5-cp310-cp310-manylinux_2_17_x86_64.manylinux2014_x86_64.whl (25 kB)\n",
            "Installing collected packages: MarkupSafe, itsdangerous, click, blinker, Werkzeug, Jinja2, flask\n",
            "Successfully installed Jinja2-3.1.4 MarkupSafe-2.1.5 Werkzeug-3.0.4 blinker-1.8.2 click-8.1.7 flask-3.0.3 itsdangerous-2.2.0\n"
          ]
        }
      ],
      "source": [
        "!pip install --ignore-installed blinker flask"
      ]
    },
    {
      "cell_type": "code",
      "execution_count": null,
      "metadata": {
        "colab": {
          "base_uri": "https://localhost:8080/"
        },
        "id": "-IdeOt6aiRWx",
        "outputId": "f4936272-311c-4e54-91a6-701253700947"
      },
      "outputs": [
        {
          "output_type": "stream",
          "name": "stdout",
          "text": [
            "Collecting twilio\n",
            "  Downloading twilio-9.3.0-py2.py3-none-any.whl.metadata (12 kB)\n",
            "Requirement already satisfied: requests>=2.0.0 in /usr/local/lib/python3.10/dist-packages (from twilio) (2.32.3)\n",
            "Requirement already satisfied: PyJWT<3.0.0,>=2.0.0 in /usr/lib/python3/dist-packages (from twilio) (2.3.0)\n",
            "Collecting aiohttp>=3.8.4 (from twilio)\n",
            "  Downloading aiohttp-3.10.5-cp310-cp310-manylinux_2_17_x86_64.manylinux2014_x86_64.whl.metadata (7.5 kB)\n",
            "Collecting aiohttp-retry>=2.8.3 (from twilio)\n",
            "  Downloading aiohttp_retry-2.8.3-py3-none-any.whl.metadata (8.9 kB)\n",
            "Collecting aiohappyeyeballs>=2.3.0 (from aiohttp>=3.8.4->twilio)\n",
            "  Downloading aiohappyeyeballs-2.4.0-py3-none-any.whl.metadata (5.9 kB)\n",
            "Collecting aiosignal>=1.1.2 (from aiohttp>=3.8.4->twilio)\n",
            "  Downloading aiosignal-1.3.1-py3-none-any.whl.metadata (4.0 kB)\n",
            "Requirement already satisfied: attrs>=17.3.0 in /usr/local/lib/python3.10/dist-packages (from aiohttp>=3.8.4->twilio) (24.2.0)\n",
            "Collecting frozenlist>=1.1.1 (from aiohttp>=3.8.4->twilio)\n",
            "  Downloading frozenlist-1.4.1-cp310-cp310-manylinux_2_5_x86_64.manylinux1_x86_64.manylinux_2_17_x86_64.manylinux2014_x86_64.whl.metadata (12 kB)\n",
            "Collecting multidict<7.0,>=4.5 (from aiohttp>=3.8.4->twilio)\n",
            "  Downloading multidict-6.1.0-cp310-cp310-manylinux_2_17_x86_64.manylinux2014_x86_64.whl.metadata (5.0 kB)\n",
            "Collecting yarl<2.0,>=1.0 (from aiohttp>=3.8.4->twilio)\n",
            "  Downloading yarl-1.11.1-cp310-cp310-manylinux_2_17_x86_64.manylinux2014_x86_64.whl.metadata (48 kB)\n",
            "\u001b[2K     \u001b[90m━━━━━━━━━━━━━━━━━━━━━━━━━━━━━━━━━━━━━━━━\u001b[0m \u001b[32m48.2/48.2 kB\u001b[0m \u001b[31m703.7 kB/s\u001b[0m eta \u001b[36m0:00:00\u001b[0m\n",
            "\u001b[?25hCollecting async-timeout<5.0,>=4.0 (from aiohttp>=3.8.4->twilio)\n",
            "  Downloading async_timeout-4.0.3-py3-none-any.whl.metadata (4.2 kB)\n",
            "Requirement already satisfied: charset-normalizer<4,>=2 in /usr/local/lib/python3.10/dist-packages (from requests>=2.0.0->twilio) (3.3.2)\n",
            "Requirement already satisfied: idna<4,>=2.5 in /usr/local/lib/python3.10/dist-packages (from requests>=2.0.0->twilio) (3.8)\n",
            "Requirement already satisfied: urllib3<3,>=1.21.1 in /usr/local/lib/python3.10/dist-packages (from requests>=2.0.0->twilio) (2.0.7)\n",
            "Requirement already satisfied: certifi>=2017.4.17 in /usr/local/lib/python3.10/dist-packages (from requests>=2.0.0->twilio) (2024.8.30)\n",
            "Requirement already satisfied: typing-extensions>=4.1.0 in /usr/local/lib/python3.10/dist-packages (from multidict<7.0,>=4.5->aiohttp>=3.8.4->twilio) (4.12.2)\n",
            "Downloading twilio-9.3.0-py2.py3-none-any.whl (1.8 MB)\n",
            "\u001b[2K   \u001b[90m━━━━━━━━━━━━━━━━━━━━━━━━━━━━━━━━━━━━━━━━\u001b[0m \u001b[32m1.8/1.8 MB\u001b[0m \u001b[31m9.6 MB/s\u001b[0m eta \u001b[36m0:00:00\u001b[0m\n",
            "\u001b[?25hDownloading aiohttp-3.10.5-cp310-cp310-manylinux_2_17_x86_64.manylinux2014_x86_64.whl (1.2 MB)\n",
            "\u001b[2K   \u001b[90m━━━━━━━━━━━━━━━━━━━━━━━━━━━━━━━━━━━━━━━━\u001b[0m \u001b[32m1.2/1.2 MB\u001b[0m \u001b[31m38.4 MB/s\u001b[0m eta \u001b[36m0:00:00\u001b[0m\n",
            "\u001b[?25hDownloading aiohttp_retry-2.8.3-py3-none-any.whl (9.8 kB)\n",
            "Downloading aiohappyeyeballs-2.4.0-py3-none-any.whl (12 kB)\n",
            "Downloading aiosignal-1.3.1-py3-none-any.whl (7.6 kB)\n",
            "Downloading async_timeout-4.0.3-py3-none-any.whl (5.7 kB)\n",
            "Downloading frozenlist-1.4.1-cp310-cp310-manylinux_2_5_x86_64.manylinux1_x86_64.manylinux_2_17_x86_64.manylinux2014_x86_64.whl (239 kB)\n",
            "\u001b[2K   \u001b[90m━━━━━━━━━━━━━━━━━━━━━━━━━━━━━━━━━━━━━━━━\u001b[0m \u001b[32m239.5/239.5 kB\u001b[0m \u001b[31m13.6 MB/s\u001b[0m eta \u001b[36m0:00:00\u001b[0m\n",
            "\u001b[?25hDownloading multidict-6.1.0-cp310-cp310-manylinux_2_17_x86_64.manylinux2014_x86_64.whl (124 kB)\n",
            "\u001b[2K   \u001b[90m━━━━━━━━━━━━━━━━━━━━━━━━━━━━━━━━━━━━━━━━\u001b[0m \u001b[32m124.6/124.6 kB\u001b[0m \u001b[31m8.4 MB/s\u001b[0m eta \u001b[36m0:00:00\u001b[0m\n",
            "\u001b[?25hDownloading yarl-1.11.1-cp310-cp310-manylinux_2_17_x86_64.manylinux2014_x86_64.whl (446 kB)\n",
            "\u001b[2K   \u001b[90m━━━━━━━━━━━━━━━━━━━━━━━━━━━━━━━━━━━━━━━━\u001b[0m \u001b[32m446.8/446.8 kB\u001b[0m \u001b[31m19.8 MB/s\u001b[0m eta \u001b[36m0:00:00\u001b[0m\n",
            "\u001b[?25hInstalling collected packages: multidict, frozenlist, async-timeout, aiohappyeyeballs, yarl, aiosignal, aiohttp, aiohttp-retry, twilio\n",
            "Successfully installed aiohappyeyeballs-2.4.0 aiohttp-3.10.5 aiohttp-retry-2.8.3 aiosignal-1.3.1 async-timeout-4.0.3 frozenlist-1.4.1 multidict-6.1.0 twilio-9.3.0 yarl-1.11.1\n",
            "Collecting pyngrok\n",
            "  Downloading pyngrok-7.2.0-py3-none-any.whl.metadata (7.4 kB)\n",
            "Requirement already satisfied: PyYAML>=5.1 in /usr/local/lib/python3.10/dist-packages (from pyngrok) (6.0.2)\n",
            "Downloading pyngrok-7.2.0-py3-none-any.whl (22 kB)\n",
            "Installing collected packages: pyngrok\n",
            "Successfully installed pyngrok-7.2.0\n"
          ]
        }
      ],
      "source": [
        "!pip install twilio\n",
        "!pip install pyngrok"
      ]
    },
    {
      "cell_type": "code",
      "execution_count": null,
      "metadata": {
        "colab": {
          "base_uri": "https://localhost:8080/"
        },
        "id": "kE15SmpcIgkL",
        "outputId": "43680b89-adfa-4588-fd0c-661386e37f28"
      },
      "outputs": [
        {
          "output_type": "stream",
          "name": "stdout",
          "text": [
            "Authtoken saved to configuration file: /root/.config/ngrok/ngrok.yml\n"
          ]
        }
      ],
      "source": [
        "!ngrok authtoken YOUR_NGROK_AUTHTOKEN"
      ]
    },
    {
      "cell_type": "code",
      "execution_count": null,
      "metadata": {
        "colab": {
          "base_uri": "https://localhost:8080/"
        },
        "id": "fW0ab-IhI7Dl",
        "outputId": "626a8c98-b52b-451f-ff9f-a3e5fbdf8b6f"
      },
      "outputs": [
        {
          "output_type": "stream",
          "name": "stdout",
          "text": [
            "Authtoken saved to configuration file: /root/.config/ngrok/ngrok.yml\n"
          ]
        }
      ],
      "source": [
        "!ngrok config add-authtoken 2lP5aI2464fHl0AZAiXL59AaGOf_4vZKFN3e6ebi7bXf251fc"
      ]
    },
    {
      "cell_type": "code",
      "execution_count": null,
      "metadata": {
        "colab": {
          "base_uri": "https://localhost:8080/"
        },
        "id": "JLzNkQS_KBTT",
        "outputId": "c1e67126-d8ec-438c-af0c-45b0f79f7f20"
      },
      "outputs": [
        {
          "output_type": "stream",
          "name": "stdout",
          "text": [
            "Valid configuration file at /root/.config/ngrok/ngrok.yml\n"
          ]
        }
      ],
      "source": [
        "!ngrok config check"
      ]
    },
    {
      "cell_type": "markdown",
      "metadata": {
        "id": "qxd9R3EGaKjQ"
      },
      "source": [
        "###Links del deployment\n",
        "\n",
        "Twilio\n",
        "https://console.twilio.com/us1/develop/sms/try-it-out/whatsapp-learn?frameUrl=%2Fconsole%2Fsms%2Fwhatsapp%2Flearn%3Fx-target-region%3Dus1\n",
        "\n",
        "Ngrok\n",
        "https://dashboard.ngrok.com/get-started/your-authtoken"
      ]
    },
    {
      "cell_type": "code",
      "execution_count": null,
      "metadata": {
        "colab": {
          "base_uri": "https://localhost:8080/"
        },
        "id": "uGEmiK_-m-V4",
        "outputId": "69824e6d-5043-4773-ce20-e314f8fb84c9"
      },
      "outputs": [
        {
          "output_type": "stream",
          "name": "stdout",
          "text": [
            " * ngrok tunnel \"NgrokTunnel: \"https://ca3d-34-29-56-215.ngrok-free.app\" -> \"http://localhost:5000\"\" -> \"http://127.0.0.1:5000\"\n",
            " * Serving Flask app '__main__'\n",
            " * Debug mode: off\n"
          ]
        },
        {
          "output_type": "stream",
          "name": "stderr",
          "text": [
            "INFO:werkzeug:\u001b[31m\u001b[1mWARNING: This is a development server. Do not use it in a production deployment. Use a production WSGI server instead.\u001b[0m\n",
            " * Running on http://127.0.0.1:5000\n",
            "INFO:werkzeug:\u001b[33mPress CTRL+C to quit\u001b[0m\n"
          ]
        }
      ],
      "source": [
        "from flask import Flask, request\n",
        "from twilio.twiml.messaging_response import MessagingResponse\n",
        "from pyngrok import ngrok\n",
        "\n",
        "# Initialize the Flask application\n",
        "app = Flask(__name__)\n",
        "\n",
        "# Dictionary to store conversation states\n",
        "conversation_state = {}\n",
        "\n",
        "@app.route(\"/whatsapp\", methods=['POST'])\n",
        "def whatsapp_reply():\n",
        "    incoming_msg = request.values.get('Body', '').lower()\n",
        "    media_url = request.values.get('MediaUrl0', None)  # Get the URL of the first media item if it exists\n",
        "    media_content_type = request.values.get('MediaContentType0', None)  # Get the media content type\n",
        "    customer_number = request.values.get('From', None)  # Get the sender's phone number\n",
        "\n",
        "    resp = MessagingResponse()\n",
        "    msg = resp.message()\n",
        "\n",
        "    # Debug: Print all incoming request data\n",
        "    print(f\"Incoming request: {request.values}\")\n",
        "\n",
        "    # Get the current state for this customer\n",
        "    state = conversation_state.get(customer_number, None)\n",
        "\n",
        "    # Check if the incoming message has an image\n",
        "    if state == \"awaiting_customization_choice\":\n",
        "        if incoming_msg in ['a', '1']:\n",
        "            msg.body('''https://vasanticases.com/search?keyword=mascotas\n",
        "\n",
        "            Tenemos estos para personalizados con mascotas ❤\n",
        "\n",
        "            elige el estilo que te guste ☝🏻\n",
        "\n",
        "            1.⁠ ⁠Subes la imagen de tu mascota 💕\n",
        "\n",
        "            2.⁠ ⁠Escribes la referencia de tu celular 📲\n",
        "\n",
        "            3.⁠ ⁠Más abajo vas a encontrar una parte donde puedes escribir como deseas el forro para explicar mejor. 👀(solo si es necesario explicar)\n",
        "\n",
        "            4.⁠ ⁠Lo añades a la cesta, y listo🛍\n",
        "\n",
        "            -Aceptamos todos los medios de pago 💡\n",
        "\n",
        "            Si tienes alguna duda para finalizar el pedido me dices y con gusto te ayudaré ❤''')\n",
        "\n",
        "            # Create a new message object for the second part of the message\n",
        "            msg = resp.message()\n",
        "\n",
        "            msg.body('''Una vez realizas tu pago, comenzamos con el diseño y te lo mostramos para que lo apruebes ❤ ''')\n",
        "            conversation_state[customer_number] = None\n",
        "\n",
        "        elif incoming_msg in ['b', '2', 'foto']:\n",
        "            msg.body('''https://vasanticases.com/-c54579953\n",
        "\n",
        "            Tenemos estas opciones para personalizados con fotos.\n",
        "\n",
        "            elige la opcion que te gusta\n",
        "\n",
        "            1.⁠ ⁠Subes la cantidad de fotos que desees o necesites\n",
        "\n",
        "            2.⁠ ⁠Escribes la referencia de tu celular 📲\n",
        "\n",
        "            3.⁠ ⁠Más abajo vas a encontrar una parte donde puedes escribir como deseas el forro para explicar mejor. 👀(solo si es necesario explicar)\n",
        "\n",
        "            4.⁠ ⁠Lo añades a la cesta, y listo🛍\n",
        "\n",
        "            -Aceptamos todos los medios de pago 💡\n",
        "\n",
        "            Si tienes alguna duda para finalizar el pedido me dices y con gusto te ayudaré ❤\n",
        "            ''')\n",
        "\n",
        "            # Create a new message object for the second part of the message\n",
        "            msg = resp.message()\n",
        "\n",
        "            msg.body('''Una vez realizas tu pago, comenzamos con el diseño y te lo mostramos para que lo apruebes. Además te informaremos en cuanto se haga el envío para que puedas estar pendiente ❤''')\n",
        "            conversation_state[customer_number] = None\n",
        "\n",
        "        elif incoming_msg in ['c', '3','diseño propio','imagen']:\n",
        "            msg.body('''https://vasanticases.com/TU-PROPIO-DISE%C3%91O-p215257066\n",
        "\n",
        "            1.⁠ ⁠Subes la imagen del diseño que quieres💕💡\n",
        "\n",
        "            2.⁠ ⁠Escribes la referencia de tu celular 📲\n",
        "\n",
        "            3.⁠ ⁠Más abajo vas a encontrar una parte donde puedes escribir como deseas el forro para explicar mejor. 👀\n",
        "\n",
        "            4.⁠ ⁠Lo añades a la cesta, y listo🛍\n",
        "\n",
        "            -Aceptamos todos los medios de pago 💡\n",
        "\n",
        "            Si tienes alguna duda para finalizar el pedido me dices y con gusto te ayudaré ❤️''')\n",
        "\n",
        "            # Create a new message object for the second part of the message\n",
        "            msg = resp.message()\n",
        "            conversation_state[customer_number] = None\n",
        "\n",
        "            msg.body('''Una vez realizas tu pago, comenzamos con el diseño y te lo mostramos para que lo apruebes ❤ ''')\n",
        "\n",
        "        elif incoming_msg in ['d', '4']:\n",
        "            msg.body(\"\"\"Si es de nuestras colecciones: Todos los forros de la página instagram.com/vasanticases están disponibles para tú celular 💕 cualquiera que elijas lo adaptamos a tu celular 📱cuestan $38.000 Recuerda que también los personalizamos completamente a tu gusto desde $42.000\"\"\")\n",
        "\n",
        "            msg = resp.message()\n",
        "\n",
        "            msg.body('''Visita nuestra página web y explora la colección que más te interese.\n",
        "            https://vasanticases.com/COLECCIONES-c54498076\n",
        "            1. Seleccionas el # del forro que te gusta 💕\n",
        "            2. Escribes la referencia de tu celular📲\n",
        "            3. Lo añades a la cesta y listo! 🛍\n",
        "            -Aceptamos todos los medios de pago 💡\n",
        "            Si tienes alguna duda para finalizar el pedido me dices y con gusto te ayudaré ❤️''')\n",
        "\n",
        "            # Reset the state after the choice\n",
        "            conversation_state[customer_number] = None\n",
        "        elif incoming_msg in ['e', '5']:\n",
        "            msg.body(\"Nos pondremos en contacto contigo en breve para asesorarte en tu solicitud y brindarte más información.\")\n",
        "            # Reset the state after the choice\n",
        "            conversation_state[customer_number] = None\n",
        "        else:\n",
        "            msg.body(\"Por favor, elige una opción válida: a, b, c, d, e o 1, 2, 3, 4 o 5.\")\n",
        "            conversation_state[customer_number] = \"awaiting_customization_choice\"\n",
        "\n",
        "    elif media_url and media_content_type and media_content_type.startswith('image'):\n",
        "        print(\"Image detected, preparing response...\")\n",
        "        msg.body(\"¡Gracias por compartir la imagen! Estamos procesando tu solicitud de personalización.\")\n",
        "        msg.media(media_url)  # Echo the image back to the user (optional)\n",
        "        print(\"Response prepared: ¡Gracias por compartir la imagen! Estamos procesando tu solicitud de personalización.\")\n",
        "\n",
        "    else:\n",
        "        # Define basic responses\n",
        "        pricing_keywords = ['que cuesta', 'precios', 'valor', 'cotizar', 'cuanto me costaría', 'precio', 'costo', 'costaría', 'costaria']\n",
        "        celulares_keywords = ['hola','iphone', 'samsung', 'huawei', 'motorola', 'xiaomi', 'vivo', 'tecno', 'realme', 'oppo', 'lg', 'redmi']\n",
        "        foto_keywords = ['con foto', 'foto', 'fotos', 'FOTO', 'CON FOTO']\n",
        "        mascotas_keywords = ['con mascota', 'mascota', 'mascotas', 'MASCOTA', 'CON MASCOTA', 'Mascota', 'mascotica']\n",
        "        diseñopropio_keywords = ['con diseño', 'diseño', 'diseño propio', 'DISEÑO', 'CON DISEÑO']\n",
        "        ubicacion_keywords = ['cuanto cuesta el envio', 'ubicacion', '¿Donde estan ubicados?', '¿Donde se encuentran?', '¿Donde puedo encuentrarlos?',\n",
        "                              'ustedes dónde se encuentran ubicados', 'ubicados', 'donde están', 'en que ciudad estan', 'ciudad', 'donde estan ubicados', 'en que ciudad', 'donde se ubican', 'envio', 'envian', 'bogota medellin', 'cali', 'cartagena', 'santa marta', 'palmira', 'villavicencio']\n",
        "        contra_entrega_keywords = ['contra entrega', 'contraentrega']\n",
        "        descuentos_keywords = ['dejan', 'descuento', 'me dejan', 'me lo dejas', 'descuentan', 'en cuanto me queda']\n",
        "        mediospago_keywords = ['pago', 'medio de pago']\n",
        "        deliverytime_keywords = ['Cuántos días se demoraría en llegar?', 'tiempo de espera', 'tiempo', 'cuantos dias', 'cuanto tarda', 'tiempo', 'demora', 'cuanto se tarda']\n",
        "        Catalogo_keywords = ['catalogo', 'coleccion', 'colecciones', 'catalogos','ambas']\n",
        "        materiales_keywords = ['materiales', 'material', 'de que esta hecho', 'tipo de forro']\n",
        "        personalizado_con_mascota = ['así con un perrito','con un perrito','con mi perrita','con mi perro','con mis gatos','con mis gatitos','con mi gatita','con mi gata','con mis mascotas','con mi mascotica','quiero uno con mi perrito','con mi mascota']\n",
        "        mandarhacer_phrase = ['mandar hacer']\n",
        "        pagar_envio_phrase = ['pagar el envio']\n",
        "        check_availability = ['referencia', 'si esta disponible', 'si tienen mi celular', 'si manejan la referencia', 'disponibilidad']\n",
        "        personalizado_keyword = ['personalizado','personalizar']\n",
        "        dibujado_keyword = ['dibujado','caricatura']\n",
        "        Tiempos_de_espera_keyword = ['cuánto demora el pedido en llegar', 'no me ha llegado, Quería preguntar si ya habían enviado la funda', 'informacion del pedido','tiempo estimadoCuando se envían los forros', 'Cuando me envían', 'como va', 'como va el envío de los forros,cómo va el estado del pedido']\n",
        "\n",
        "\n",
        "        # Check Catalogo\n",
        "        if any(keyword in incoming_msg for keyword in Catalogo_keywords):\n",
        "            msg.body('''Si es de nuestras colecciones: Todos los forros de la página instagram.com/vasanticases están disponibles para tú celular 💕 cualquiera que elijas lo adaptamos a tu celular 📱cuestan $38.000. Recuerda que también los personalizamos completamente a tu gusto desde $42.000🙌''')\n",
        "\n",
        "        # Check for celulares-related keywords\n",
        "        elif any(cel in incoming_msg for cel in celulares_keywords):\n",
        "            msg.body('''“¡Hola! Soy *Tina AI*🤖, un gusto atenderte en Vasanticases. Cuéntame, ¿cómo te puedo ayudar hoy? Tenemos disponibles para:\n",
        "            Iphone / Samsung / Huawei / Motorola / Xiaomi/ Vivo/ Tecno / Realme / Oppo/ Lg / redmi''')\n",
        "\n",
        "            # Create a new message object for the second part of the message\n",
        "            msg = resp.message()\n",
        "\n",
        "            msg.body(\"\"\"\n",
        "            ¿CUÉNTAME CÓMO TE GUSTARÍA TU CASE?\n",
        "            a. Personalizado con tu mascota\n",
        "            b. Personalizado con una foto\n",
        "            c. Personalizado con una imagen que tienes o un diseño propio\n",
        "            d. De nuestras colecciones / catálogo\n",
        "            e. Otro\n",
        "            Personalizados los tenemos en $42.000 realizados en material space, impresión de alto relieve y barniz. cuentan con garantía de 5 meses.\n",
        "\n",
        "            \"\"\")\n",
        "            # Set the state to awaiting customization choice\n",
        "            conversation_state[customer_number] = \"awaiting_customization_choice\"\n",
        "\n",
        "\n",
        "        #Check if customer after personalization\n",
        "        elif any(mascota in incoming_msg for mascota in mascotas_keywords):\n",
        "            msg.body('''https://vasanticases.com/search?keyword=mascotas\n",
        "\n",
        "            Tenemos estos para personalizados con mascotas ❤\n",
        "\n",
        "            elige el estilo que te guste ☝🏻\n",
        "\n",
        "            1.⁠ ⁠Subes la imagen de tu mascota 💕\n",
        "\n",
        "            2.⁠ ⁠Escribes la referencia de tu celular 📲\n",
        "\n",
        "            3.⁠ ⁠Más abajo vas a encontrar una parte donde puedes escribir como deseas el forro para explicar mejor. 👀(solo si es necesario explicar)\n",
        "\n",
        "            4.⁠ ⁠Lo añades a la cesta, y listo🛍\n",
        "\n",
        "            -Aceptamos todos los medios de pago 💡\n",
        "\n",
        "            Si tienes alguna duda para finalizar el pedido me dices y con gusto te ayudaré ❤''')\n",
        "\n",
        "            # Create a new message object for the second part of the message\n",
        "            msg = resp.message()\n",
        "\n",
        "            msg.body('''Una vez realizas tu pago, comenzamos con el diseño y te lo mostramos para que lo apruebes ❤ ''')\n",
        "            conversation_state[customer_number] = None\n",
        "\n",
        "        #check personalizado\n",
        "        elif any(keyword in incoming_msg for keyword in personalizado_keyword):\n",
        "          msg.body(\"\"\"\n",
        "            ¿CUÉNTAME CÓMO TE GUSTARÍA TU CASE?\n",
        "            a. Personalizado con tu mascota\n",
        "            b. Personalizado con una foto\n",
        "            c. Personalizado con una imagen que tienes o un diseño propio\n",
        "            d. De nuestras colecciones / catálogo\n",
        "            e. Otro\n",
        "            Personalizados los tenemos en $42.000 realizados en material space, impresión de alto relieve y barniz. cuentan con garantía de 5 meses.\n",
        "\n",
        "            \"\"\")\n",
        "\n",
        "            # Set the state to awaiting customization choice\n",
        "          conversation_state[customer_number] = \"awaiting_customization_choice\"\n",
        "\n",
        "        #check mandar hacer phrase\n",
        "        elif any(mandarhacer in incoming_msg for mandarhacer in mandarhacer_phrase):\n",
        "           msg.body(''' El forro que buscas es de\n",
        "           -  Catálogo/colecciones\n",
        "           -   Personalizado\n",
        "           Déjanos saber para indicarte los pasos a seguir ❤''')\n",
        "           # Create a new message object for the second part of the message\n",
        "           msg = resp.message()\n",
        "\n",
        "           msg.body(\"\"\"\n",
        "            ¿CUÉNTAME CÓMO TE GUSTARÍA TU CASE?\n",
        "            a. Personalizado con tu mascota\n",
        "            b. Personalizado con una foto\n",
        "            c. Personalizado con una imagen que tienes o un diseño propio\n",
        "            d. De nuestras colecciones / catálogo\n",
        "            e. Otro\n",
        "            Personalizados los tenemos en $42.000 realizados en material space, impresión de alto relieve y barniz. cuentan con garantía de 5 meses.\n",
        "\n",
        "            \"\"\")\n",
        "            # Set the state to awaiting customization choice\n",
        "           conversation_state[customer_number] = \"awaiting_customization_choice\"\n",
        "\n",
        "        #Check combine answer with pet plus custom keyword\n",
        "        elif any(keyword in incoming_msg for keyword in personalizado_con_mascota):\n",
        "           msg.body('''https://vasanticases.com/search?keyword=mascotas\n",
        "\n",
        "            Tenemos estos para personalizados con mascotas ❤\n",
        "\n",
        "            elige el estilo que te guste ☝🏻\n",
        "\n",
        "            1.⁠ ⁠Subes la imagen de tu mascota 💕\n",
        "\n",
        "            2.⁠ ⁠Escribes la referencia de tu celular 📲\n",
        "\n",
        "            3.⁠ ⁠Más abajo vas a encontrar una parte donde puedes escribir como deseas el forro para explicar mejor. 👀(solo si es necesario explicar)\n",
        "\n",
        "            4.⁠ ⁠Lo añades a la cesta, y listo🛍\n",
        "\n",
        "            -Aceptamos todos los medios de pago 💡\n",
        "\n",
        "            Si tienes alguna duda para finalizar el pedido me dices y con gusto te ayudaré ❤''')\n",
        "\n",
        "           # Create a new message object for the second part of the message\n",
        "           msg = resp.message()\n",
        "\n",
        "           msg.body('''Una vez realizas tu pago, comenzamos con el diseño y te lo mostramos para que lo apruebes ❤ ''')\n",
        "\n",
        "        # Check for pricing-related keywords\n",
        "        elif any(keyword in incoming_msg for keyword in pricing_keywords):\n",
        "            msg.body(\"\"\"Si es de nuestras colecciones: Todos los forros de la página instagram.com/vasanticases están disponibles para tú celular 💕 cualquiera que elijas lo adaptamos a tu celular 📱cuestan $38.000 Recuerda que también los personalizamos completamente a tu gusto desde $42.000🙌\"\"\")\n",
        "\n",
        "            # Create a new message object for the second part of the message\n",
        "            msg = resp.message()\n",
        "\n",
        "            msg.body('''El forro que buscas es de\n",
        "            -  *Catálogo/colecciones*\n",
        "            -   *Personalizado*\n",
        "            Déjanos saber para indicarte los pasos a seguir ❤''')\n",
        "\n",
        "        # Check for contra entrega\n",
        "        elif any(keyword in incoming_msg for keyword in contra_entrega_keywords):\n",
        "           msg.body('''No tenemos pago contra entrega pero aceptamos todos los medios de pago ❤ ''')\n",
        "\n",
        "           msg = resp.message()\n",
        "\n",
        "           msg.body('''puedes hacer el pago directamente en la página web con cualquier método de pago que requieras. O al finalizar tu pedido puedes seleccionar nequi o Bancolombia y nos envías el soporte de pago por este medio junto con tu *número de pedido* para confirmar tu pago.''')\n",
        "\n",
        "        # Check for location request\n",
        "        elif any(keyword in incoming_msg for keyword in ubicacion_keywords):\n",
        "            msg.body('''Estamos en Cali pero hacemos envios a todo el país ✈️\n",
        "            -El envío cuesta $14.800 pero este valor lo pagas al momento que recibes el pedido.\n",
        "            O Si estás en el cali el envio cuesta $8.000🫶🏻''')\n",
        "\n",
        "        #Check dibujado o caricatura status\n",
        "        elif any(keyword in incoming_msg for keyword in dibujado_keyword):\n",
        "          msg.body('También los realizamos en caricatura y dibujados en el siguiente enlace puedes ver las opciones que tenemos  ❤  https://vasanticases.com/search?keyword=mascotas nos avisas si tienes alguna duda.')\n",
        "\n",
        "        #Check pagarenvio methods\n",
        "        elif any(keyword in incoming_msg for keyword in pagar_envio_phrase):\n",
        "            msg.body('''También puedes pagar el valor del envío de una vez, junto con el total de tu pedido El envío cuesta $14.800  O Si estás en el cali el envio cuesta $8.000🫶🏻\n",
        "                        Nos envías el comprobante del pago junto con tu número de pedido para confirmar tu pedido ❤''')\n",
        "\n",
        "        #Check medios de pago\n",
        "        elif any(keyword in incoming_msg for keyword in mediospago_keywords):\n",
        "            msg.body('''puedes hacer el pago directamente en la página web con cualquier método de pago que requieras. O al finalizar tu pedido puedes seleccionar nequi o Bancolombia y nos envías el soporte de pago por este medio junto con tu *número de pedido* para confirmar tu pago.''')\n",
        "\n",
        "        #check descuentos\n",
        "        elif any(keyword in incoming_msg for keyword in descuentos_keywords):\n",
        "          msg.body('''Lo sentimos, en el momento no tenemos descuentos activos, pero a partir de compras de $100.000 tu envío es completamente gratis.''')\n",
        "\n",
        "        #Check Deliverytime\n",
        "        elif any(keyword in incoming_msg for keyword in deliverytime_keywords):\n",
        "          msg.body('''El tiempo de espera es de 6 a 8 días hábiles ❤️ (es decir que no cuentas Sábados/Domingos o festivos) sin embargo estaremos notificando en cuanto enviemos tu pedido para que puedas estar pendiente''')\n",
        "\n",
        "        #Customer want to check the status of the delivery\n",
        "        elif any(keyword in incoming_msg for keyword in Tiempos_de_espera_keyword):\n",
        "          msg.body('''Hola! Recuerda que el tiempo de espera es de 6 a 8 días hábiles, si tu pedido aún no ha cumplido con este tiempo de espera nos estaremos contactando contigo pronto para enseñarte cómo queda tu case. por el contrario Si el tiempo de espera ya pasó, en un momento estaremos contactándote para brindarte información y el numero de rastreo de tu envío ❤ muchas gracias por tu espera ! ''')\n",
        "\n",
        "        #check materiales\n",
        "        elif any(keyword in incoming_msg for keyword in materiales_keywords):\n",
        "          msg.body('''Te dejo las características del material space que tenemos para los cases, es el único que manejamos para personalizados por favor lee bien su descripción✨ es el mejor del mercado además que tienen garantía de hasta 5 meses. Vasanticases.com/Caracter%C3%ADsticas-de-materiales-c154233507''')\n",
        "\n",
        "       #Check disponibilidad\n",
        "        elif any(keyword in incoming_msg for keyword in check_availability):\n",
        "          msg.body('Puedes verificar si tu referencia está disponible y que puedas hacer tu compra con tranquilidad en nuestra página web, si no ves tu referencia en el siguiente enlace nos comunicaremos en breve contigo para confirmar la disponibilidad https://vasanticases.com/CAT%C3%81LOGO-DE-REFERENCIAS-c164170758 ')\n",
        "\n",
        "        # Check for thank you ending chat\n",
        "        elif 'muchas gracias' in incoming_msg:\n",
        "            msg.body(\"Con gusto ! cualquier duda que necesites me avisas 😀✨gracias a ti por escribirnos.\")\n",
        "\n",
        "        # Default response if none of the above conditions match\n",
        "        else:\n",
        "            msg.body(\"Lo siento, parece que no puedo entender tu solicitud en este momento. Un asesor se pondrá en contacto contigo para asistirte lo antes posible. ¡Gracias por tu paciencia!\")\n",
        "\n",
        "    # Send the response back to Twilio\n",
        "    print(\"Sending response back to Twilio...\")\n",
        "    return str(resp)\n",
        "\n",
        "# Run the Flask app\n",
        "if __name__ == \"__main__\":\n",
        "    # Expose the Flask app through ngrok\n",
        "    public_url = ngrok.connect(5000)\n",
        "    print(f\" * ngrok tunnel \\\"{public_url}\\\" -> \\\"http://127.0.0.1:5000\\\"\")\n",
        "    app.run()"
      ]
    },
    {
      "cell_type": "code",
      "source": [],
      "metadata": {
        "id": "h9kYsz-ZCrbP"
      },
      "execution_count": null,
      "outputs": []
    },
    {
      "cell_type": "code",
      "execution_count": null,
      "metadata": {
        "id": "f-rfPjGrngI3"
      },
      "outputs": [],
      "source": []
    }
  ],
  "metadata": {
    "accelerator": "TPU",
    "colab": {
      "gpuType": "V28",
      "machine_shape": "hm",
      "provenance": [],
      "include_colab_link": true
    },
    "kernelspec": {
      "display_name": "Python 3",
      "name": "python3"
    },
    "language_info": {
      "name": "python"
    }
  },
  "nbformat": 4,
  "nbformat_minor": 0
}